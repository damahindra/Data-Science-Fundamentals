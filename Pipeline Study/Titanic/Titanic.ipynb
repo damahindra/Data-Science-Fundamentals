{
 "cells": [
  {
   "cell_type": "code",
   "execution_count": 1,
   "metadata": {},
   "outputs": [],
   "source": [
    "# importing libraries\n",
    "\n",
    "from seaborn import load_dataset # for dataset\n",
    "\n",
    "import pandas as pd\n",
    "import numpy as np\n",
    "\n",
    "from sklearn.model_selection import train_test_split\n",
    "from sklearn.base import BaseEstimator, TransformerMixin\n",
    "from sklearn.impute import SimpleImputer # for handling NaN values\n",
    "from sklearn.preprocessing import OneHotEncoder, MinMaxScaler # handling the preprocessing\n",
    "from sklearn.compose import ColumnTransformer\n",
    "from sklearn.pipeline import Pipeline # for automation\n",
    "from sklearn.linear_model import LogisticRegression\n",
    "from sklearn.metrics import roc_auc_score"
   ]
  },
  {
   "cell_type": "code",
   "execution_count": 2,
   "metadata": {},
   "outputs": [
    {
     "name": "stdout",
     "output_type": "stream",
     "text": [
      "(891, 9)\n"
     ]
    },
    {
     "data": {
      "text/html": [
       "<div>\n",
       "<style scoped>\n",
       "    .dataframe tbody tr th:only-of-type {\n",
       "        vertical-align: middle;\n",
       "    }\n",
       "\n",
       "    .dataframe tbody tr th {\n",
       "        vertical-align: top;\n",
       "    }\n",
       "\n",
       "    .dataframe thead th {\n",
       "        text-align: right;\n",
       "    }\n",
       "</style>\n",
       "<table border=\"1\" class=\"dataframe\">\n",
       "  <thead>\n",
       "    <tr style=\"text-align: right;\">\n",
       "      <th></th>\n",
       "      <th>survived</th>\n",
       "      <th>pclass</th>\n",
       "      <th>sex</th>\n",
       "      <th>age</th>\n",
       "      <th>sibsp</th>\n",
       "      <th>parch</th>\n",
       "      <th>fare</th>\n",
       "      <th>deck</th>\n",
       "      <th>embark_town</th>\n",
       "    </tr>\n",
       "  </thead>\n",
       "  <tbody>\n",
       "    <tr>\n",
       "      <th>0</th>\n",
       "      <td>0</td>\n",
       "      <td>3</td>\n",
       "      <td>male</td>\n",
       "      <td>22.0</td>\n",
       "      <td>1</td>\n",
       "      <td>0</td>\n",
       "      <td>7.2500</td>\n",
       "      <td>NaN</td>\n",
       "      <td>Southampton</td>\n",
       "    </tr>\n",
       "    <tr>\n",
       "      <th>1</th>\n",
       "      <td>1</td>\n",
       "      <td>1</td>\n",
       "      <td>female</td>\n",
       "      <td>38.0</td>\n",
       "      <td>1</td>\n",
       "      <td>0</td>\n",
       "      <td>71.2833</td>\n",
       "      <td>C</td>\n",
       "      <td>Cherbourg</td>\n",
       "    </tr>\n",
       "    <tr>\n",
       "      <th>2</th>\n",
       "      <td>1</td>\n",
       "      <td>3</td>\n",
       "      <td>female</td>\n",
       "      <td>26.0</td>\n",
       "      <td>0</td>\n",
       "      <td>0</td>\n",
       "      <td>7.9250</td>\n",
       "      <td>NaN</td>\n",
       "      <td>Southampton</td>\n",
       "    </tr>\n",
       "    <tr>\n",
       "      <th>3</th>\n",
       "      <td>1</td>\n",
       "      <td>1</td>\n",
       "      <td>female</td>\n",
       "      <td>35.0</td>\n",
       "      <td>1</td>\n",
       "      <td>0</td>\n",
       "      <td>53.1000</td>\n",
       "      <td>C</td>\n",
       "      <td>Southampton</td>\n",
       "    </tr>\n",
       "    <tr>\n",
       "      <th>4</th>\n",
       "      <td>0</td>\n",
       "      <td>3</td>\n",
       "      <td>male</td>\n",
       "      <td>35.0</td>\n",
       "      <td>0</td>\n",
       "      <td>0</td>\n",
       "      <td>8.0500</td>\n",
       "      <td>NaN</td>\n",
       "      <td>Southampton</td>\n",
       "    </tr>\n",
       "  </tbody>\n",
       "</table>\n",
       "</div>"
      ],
      "text/plain": [
       "   survived  pclass     sex   age  sibsp  parch     fare deck  embark_town\n",
       "0         0       3    male  22.0      1      0   7.2500  NaN  Southampton\n",
       "1         1       1  female  38.0      1      0  71.2833    C    Cherbourg\n",
       "2         1       3  female  26.0      0      0   7.9250  NaN  Southampton\n",
       "3         1       1  female  35.0      1      0  53.1000    C  Southampton\n",
       "4         0       3    male  35.0      0      0   8.0500  NaN  Southampton"
      ]
     },
     "execution_count": 2,
     "metadata": {},
     "output_type": "execute_result"
    }
   ],
   "source": [
    "# load data\n",
    "\n",
    "columns = ['alive', 'class', 'embarked', 'who','alone', 'adult_male']\n",
    "data = load_dataset('titanic').drop(columns=columns)\n",
    "data['deck'] = data['deck'].astype('object')\n",
    "print(data.shape)\n",
    "data.head()"
   ]
  },
  {
   "cell_type": "code",
   "execution_count": 5,
   "metadata": {},
   "outputs": [
    {
     "name": "stdout",
     "output_type": "stream",
     "text": [
      "Index(['pclass', 'age', 'sibsp', 'parch', 'fare'], dtype='object')\n",
      "Index(['deck', 'embark_town', 'sex'], dtype='object')\n"
     ]
    }
   ],
   "source": [
    "# References\n",
    "SEED = 101\n",
    "TARGET = 'survived'\n",
    "FEATURES = data.columns.drop(TARGET)\n",
    "\n",
    "NUMERICAL = data[FEATURES].select_dtypes('number').columns\n",
    "CATEGORICAL = pd.Index(np.setdiff1d(FEATURES, NUMERICAL))\n",
    "\n",
    "print(NUMERICAL) # numerical values\n",
    "print(CATEGORICAL) # categorical values"
   ]
  },
  {
   "cell_type": "code",
   "execution_count": 6,
   "metadata": {},
   "outputs": [],
   "source": [
    "# split the dataset\n",
    "\n",
    "X_train, X_test, y_train, y_test = train_test_split(data.drop(columns=TARGET), data[TARGET], test_size=0.2, random_state=SEED, stratify=data[TARGET])"
   ]
  },
  {
   "attachments": {},
   "cell_type": "markdown",
   "metadata": {},
   "source": [
    "Elegant Approach #1"
   ]
  },
  {
   "cell_type": "code",
   "execution_count": 15,
   "metadata": {},
   "outputs": [
    {
     "data": {
      "text/plain": [
       "Pipeline(steps=[('preprocessors',\n",
       "                 ColumnTransformer(transformers=[('num',\n",
       "                                                  Pipeline(steps=[('imputer',\n",
       "                                                                   SimpleImputer()),\n",
       "                                                                  ('scaler',\n",
       "                                                                   MinMaxScaler())]),\n",
       "                                                  Index(['pclass', 'age', 'sibsp', 'parch', 'fare'], dtype='object')),\n",
       "                                                 ('cat',\n",
       "                                                  Pipeline(steps=[('imputer',\n",
       "                                                                   SimpleImputer(fill_value='missing',\n",
       "                                                                                 strategy='constant')),\n",
       "                                                                  ('encoder',\n",
       "                                                                   OneHotEncoder(handle_unknown='ignore',\n",
       "                                                                                 sparse=False))]),\n",
       "                                                  Index(['deck', 'embark_town', 'sex'], dtype='object'))])),\n",
       "                ('model', LogisticRegression())])"
      ]
     },
     "execution_count": 15,
     "metadata": {},
     "output_type": "execute_result"
    }
   ],
   "source": [
    "# using sklearn's Pipeline\n",
    "numerical_pipe = Pipeline([\n",
    "    ('imputer', SimpleImputer(strategy='mean')),\n",
    "    ('scaler', MinMaxScaler())\n",
    "])\n",
    "\n",
    "categorical_pipe = Pipeline([\n",
    "    ('imputer', SimpleImputer(strategy='constant', fill_value='missing')),\n",
    "    ('encoder', OneHotEncoder(handle_unknown='ignore', sparse=False))\n",
    "])\n",
    "\n",
    "preprocessors = ColumnTransformer(transformers=[\n",
    "    ('num', numerical_pipe, NUMERICAL),\n",
    "    ('cat', categorical_pipe, CATEGORICAL)\n",
    "])\n",
    "\n",
    "pipe = Pipeline([\n",
    "    ('preprocessors', preprocessors),\n",
    "    ('model', LogisticRegression())\n",
    "])\n",
    "\n",
    "pipe.fit(X_train, y_train)"
   ]
  },
  {
   "cell_type": "code",
   "execution_count": 16,
   "metadata": {},
   "outputs": [
    {
     "name": "stdout",
     "output_type": "stream",
     "text": [
      "Train ROC-AUC : 0.867230719166938\n",
      "Test ROC-AUC : 0.8269433465085639\n"
     ]
    }
   ],
   "source": [
    "def calculate_roc_auc(model_pipe, X, y) :\n",
    "    y_proba = model_pipe.predict_proba(X)[:,1]\n",
    "    return roc_auc_score(y,y_proba)\n",
    "\n",
    "print(f'Train ROC-AUC : {calculate_roc_auc(pipe, X_train, y_train)}')\n",
    "print(f'Test ROC-AUC : {calculate_roc_auc(pipe, X_test, y_test)}')"
   ]
  },
  {
   "attachments": {},
   "cell_type": "markdown",
   "metadata": {},
   "source": [
    "Elegant Approach #2"
   ]
  },
  {
   "cell_type": "code",
   "execution_count": 33,
   "metadata": {},
   "outputs": [
    {
     "data": {
      "text/plain": [
       "Pipeline(steps=[('num_imputer',\n",
       "                 Imputer(features=Index(['pclass', 'age', 'sibsp', 'parch', 'fare'], dtype='object'),\n",
       "                         method='mean',\n",
       "                         value=pclass     2.308989\n",
       "age       29.638307\n",
       "sibsp      0.528090\n",
       "parch      0.404494\n",
       "fare      32.633151\n",
       "dtype: float64)),\n",
       "                ('scaler',\n",
       "                 Scaler(features=Index(['pclass', 'age', 'sibsp', 'parch', 'fare'], dtype='object'))),\n",
       "                ('cat_imputer',\n",
       "                 Imputer(features=Index(['deck', 'embark_town', 'sex'], dtype='object'))),\n",
       "                ('encoder',\n",
       "                 Encoder(features=Index(['deck', 'embark_town', 'sex'], dtype='object'))),\n",
       "                ('model', LogisticRegression())])"
      ]
     },
     "execution_count": 33,
     "metadata": {},
     "output_type": "execute_result"
    }
   ],
   "source": [
    "# making custom transformers\n",
    "\n",
    "class Imputer(BaseEstimator, TransformerMixin) :\n",
    "    def __init__(self, features, method='constant', value='missing') :\n",
    "        self.features = features\n",
    "        self.method = method\n",
    "        self.value = value\n",
    "\n",
    "    def fit(self, X, y=None) :\n",
    "        if self.method == 'mean' :\n",
    "            self.value = X[self.features].mean()\n",
    "        return self\n",
    "    \n",
    "    def transform(self, X) :\n",
    "        X_transformed = X.copy()\n",
    "        X_transformed[self.features] = X[self.features].fillna(self.value)\n",
    "        return X_transformed\n",
    "\n",
    "class Scaler(BaseEstimator, TransformerMixin) :\n",
    "    def __init__(self, features) :\n",
    "        self.features = features\n",
    "\n",
    "    def fit(self, X, y=None) :\n",
    "        self.min = X[self.features].min()\n",
    "        self.range = X[self.features].max() - self.min\n",
    "        return self\n",
    "\n",
    "    def transform(self, X) :\n",
    "        X_transformed = X.copy()\n",
    "        X_transformed[self.features] = (X[self.features] - self.min)/ self.range\n",
    "        return X_transformed\n",
    "\n",
    "class Encoder(BaseEstimator, TransformerMixin) :\n",
    "    def __init__(self, features, drop='first') :\n",
    "        self.features = features\n",
    "        self.drop = drop\n",
    "    \n",
    "    def fit(self, X, y=None) :\n",
    "        self.encoder = OneHotEncoder(sparse=False, drop=self.drop)\n",
    "        self.encoder.fit(X[self.features])\n",
    "        return self\n",
    "\n",
    "    def transform(self, X) :\n",
    "        X_transformed = pd.concat([X.drop(columns=self.features).reset_index(drop=True), \n",
    "                                   pd.DataFrame(self.encoder.transform(X[self.features]),columns=self.encoder.get_feature_names(self.features))], axis=1)\n",
    "    \n",
    "        return X_transformed\n",
    "\n",
    "\n",
    "pipe = Pipeline([\n",
    "    ('num_imputer', Imputer(NUMERICAL, method='mean')),\n",
    "    ('scaler', Scaler(NUMERICAL)),\n",
    "    ('cat_imputer', Imputer(CATEGORICAL)),\n",
    "    ('encoder', Encoder(CATEGORICAL)),\n",
    "    ('model', LogisticRegression())\n",
    "])\n",
    "\n",
    "pipe.fit(X_train, y_train)"
   ]
  },
  {
   "cell_type": "code",
   "execution_count": 35,
   "metadata": {},
   "outputs": [
    {
     "name": "stdout",
     "output_type": "stream",
     "text": [
      "Train ROC-AUC : 0.8677\n",
      "Test ROC-AUC :  0.8289\n"
     ]
    }
   ],
   "source": [
    "print(f'Train ROC-AUC : {calculate_roc_auc(pipe, X_train, y_train) :.4f}')\n",
    "print(f'Test ROC-AUC : {calculate_roc_auc(pipe, X_test, y_test) : .4f}')"
   ]
  },
  {
   "attachments": {},
   "cell_type": "markdown",
   "metadata": {},
   "source": [
    "Source : https://towardsdatascience.com/from-ml-model-to-ml-pipeline-9f95c32c6512"
   ]
  }
 ],
 "metadata": {
  "kernelspec": {
   "display_name": "base",
   "language": "python",
   "name": "python3"
  },
  "language_info": {
   "codemirror_mode": {
    "name": "ipython",
    "version": 3
   },
   "file_extension": ".py",
   "mimetype": "text/x-python",
   "name": "python",
   "nbconvert_exporter": "python",
   "pygments_lexer": "ipython3",
   "version": "3.9.7 (default, Sep 16 2021, 16:59:28) [MSC v.1916 64 bit (AMD64)]"
  },
  "orig_nbformat": 4,
  "vscode": {
   "interpreter": {
    "hash": "88279d2366fe020547cde40dd65aa0e3aa662a6ec1f3ca12d88834876c85e1a6"
   }
  }
 },
 "nbformat": 4,
 "nbformat_minor": 2
}
